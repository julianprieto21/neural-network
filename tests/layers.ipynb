{
 "cells": [
  {
   "cell_type": "code",
   "execution_count": 75,
   "metadata": {},
   "outputs": [],
   "source": [
    "import os\n",
    "os.chdir('#')\n",
    "import models.layers as layers\n",
    "import numpy as np\n",
    "import matplotlib.pyplot as plt\n",
    "import models.activations as activations\n",
    "import utils.dataset as dataset"
   ]
  },
  {
   "cell_type": "code",
   "execution_count": 76,
   "metadata": {},
   "outputs": [
    {
     "name": "stdout",
     "output_type": "stream",
     "text": [
      "\n",
      "    Train data: (48000, 1, 28, 28)\n",
      "    Valid data: (12000, 1, 28, 28)\n",
      "    Test data: (10000, 1, 28, 28)\n",
      "\n",
      "    Train labels: (48000, 10)\n",
      "    Valid labels: (12000, 10)\n",
      "    Test labels: (10000, 10)\n",
      "    \n"
     ]
    }
   ],
   "source": [
    "\n",
    "train_data, test_data = dataset.load_dataset('data/mnist')\n",
    "x_train, y_train, x_val, y_val, x_test, y_test = dataset.preprocess_dataset(train_data=train_data, test_data=test_data)\n",
    "\n",
    "batch = 1\n",
    "x = x_train[:batch, :, :, :]\n",
    "y = y_train[:batch]\n",
    "# epochs = 1\n",
    "# batch_size = 32"
   ]
  },
  {
   "cell_type": "markdown",
   "metadata": {},
   "source": [
    "## CAPA POR CAPA"
   ]
  },
  {
   "cell_type": "code",
   "execution_count": 77,
   "metadata": {},
   "outputs": [
    {
     "name": "stdout",
     "output_type": "stream",
     "text": [
      "(1, 4, 26, 26)\n"
     ]
    }
   ],
   "source": [
    "# # CONV\n",
    "filters = 4\n",
    "# x_np = np.random.rand(batch, 1, height, width)\n",
    "conv_layer = layers.Conv2D(filters=filters, filter_size=3, input_shape=x.shape, activation=activations.ReLU())\n",
    "conv_out_np = conv_layer(x)\n",
    "print(conv_out_np.shape)"
   ]
  },
  {
   "cell_type": "code",
   "execution_count": 85,
   "metadata": {},
   "outputs": [
    {
     "data": {
      "image/png": "[encoded data removed]",
      "text/plain": [
       "<Figure size 200x800 with 4 Axes>"
      ]
     },
     "metadata": {},
     "output_type": "display_data"
    }
   ],
   "source": [
    "fig, ax = plt.subplots(batch, filters, figsize=(2, 8))\n",
    "for i in range(batch):\n",
    "    for j in range(filters):\n",
    "        if batch > 1:\n",
    "            ax[i, j].imshow(conv_out_np[i, j, :, :])\n",
    "            ax[i,j].axis('off')\n",
    "            if j == 0:\n",
    "                ax[i, j].set_ylabel(f'Batch {i}', rotation=0)\n",
    "        else:\n",
    "            ax[j].imshow(conv_out_np[i, j, :, :])\n",
    "            ax[j].axis('off')\n",
    "plt.tight_layout()\n",
    "plt.show()"
   ]
  },
  {
   "cell_type": "code",
   "execution_count": 79,
   "metadata": {},
   "outputs": [
    {
     "name": "stdout",
     "output_type": "stream",
     "text": [
      "(1, 4, 13, 13)\n"
     ]
    }
   ],
   "source": [
    "# MAX POOLING\n",
    "pool_layer_np = layers.MaxPool2D(pool_size=2, input_shape=conv_out_np.shape)\n",
    "pool_out_np = pool_layer_np(conv_out_np)\n",
    "print(pool_out_np.shape)\n"
   ]
  },
  {
   "cell_type": "code",
   "execution_count": 86,
   "metadata": {},
   "outputs": [
    {
     "data": {
      "image/png": "[encoded data removed]",
      "text/plain": [
       "<Figure size 200x800 with 4 Axes>"
      ]
     },
     "metadata": {},
     "output_type": "display_data"
    }
   ],
   "source": [
    "fig, ax = plt.subplots(batch, filters, figsize=(2, 8))\n",
    "for i in range(batch):\n",
    "    for j in range(filters):\n",
    "        if batch > 1:\n",
    "            ax[i, j].imshow(pool_out_np[i, j, :, :])\n",
    "            ax[i, j].axis('off')\n",
    "        else:\n",
    "            ax[j].imshow(pool_out_np[i, j, :, :])\n",
    "            ax[j].axis('off')\n",
    "plt.show()"
   ]
  },
  {
   "cell_type": "code",
   "execution_count": 81,
   "metadata": {},
   "outputs": [
    {
     "name": "stdout",
     "output_type": "stream",
     "text": [
      "(1, 676)\n"
     ]
    }
   ],
   "source": [
    "# FLATTEN\n",
    "flatten_layer_np = layers.Flatten(input_shape=pool_out_np.shape)\n",
    "flatten_out_np = flatten_layer_np(pool_out_np)\n",
    "print(flatten_out_np.shape)\n"
   ]
  },
  {
   "cell_type": "code",
   "execution_count": 82,
   "metadata": {},
   "outputs": [
    {
     "data": {
      "image/png": "[encoded data removed]",
      "text/plain": [
       "<Figure size 2000x1000 with 1 Axes>"
      ]
     },
     "metadata": {},
     "output_type": "display_data"
    }
   ],
   "source": [
    "fig, ax = plt.subplots(1, 1, figsize=(20, 10))\n",
    "data = flatten_out_np.reshape(batch, flatten_out_np.shape[-1])\n",
    "ax.imshow(data)\n",
    "# for i in range(data.shape[0]):\n",
    "#     for j in range(data.shape[1]):\n",
    "#         ax.text(j, i, str(round(data[i, j],5)), ha=\"center\", va=\"center\", color=\"white\", fontsize=12)\n",
    "ax.set_yticks([])\n",
    "ax.set_xticks([])\n",
    "\n",
    "plt.tight_layout()\n",
    "plt.show()"
   ]
  },
  {
   "cell_type": "code",
   "execution_count": 83,
   "metadata": {},
   "outputs": [
    {
     "name": "stdout",
     "output_type": "stream",
     "text": [
      "(1, 10)\n"
     ]
    }
   ],
   "source": [
    "# DENSE\n",
    "dense_layer_np = layers.Dense(neurons=10, input_shape=flatten_out_np.shape,activation=activations.Softmax())\n",
    "dense_out_np = dense_layer_np(flatten_out_np)\n",
    "print(dense_out_np.shape)"
   ]
  },
  {
   "cell_type": "code",
   "execution_count": 88,
   "metadata": {},
   "outputs": [
    {
     "data": {
      "image/png": "[encoded data removed]",
      "text/plain": [
       "<Figure size 200x800 with 1 Axes>"
      ]
     },
     "metadata": {},
     "output_type": "display_data"
    }
   ],
   "source": [
    "fig, ax = plt.subplots(batch, 1, figsize=(2, 8))\n",
    "for b in range(batch):\n",
    "    if batch > 1:\n",
    "        ax[b].imshow(dense_out_np[b].reshape(1, 10))\n",
    "        ax[b].set_yticks([])\n",
    "        ax[b].set_xticks([])\n",
    "        ax[b].set_title(np.argmax(dense_out_np[b]), rotation=0)\n",
    "    else:\n",
    "        ax.imshow(dense_out_np[b].reshape(1, 10))\n",
    "        ax.set_yticks([])\n",
    "        ax.set_xticks([])\n",
    "        ax.set_title(np.argmax(dense_out_np[b]), rotation=0)\n",
    "plt.tight_layout()\n",
    "plt.show()\n"
   ]
  },
  {
   "cell_type": "markdown",
   "metadata": {},
   "source": [
    "## CAPA POR CAPA (BACKPROPAGATION)"
   ]
  },
  {
   "cell_type": "code",
   "execution_count": 89,
   "metadata": {},
   "outputs": [],
   "source": [
    "import random\n",
    "# DENSE\n",
    "y_true = np.zeros((batch, 10), dtype=int)  # Crea un array lleno de ceros\n",
    "for i in range(batch):\n",
    "    y_true[i, random.randint(0, 10-1)] = 1\n",
    "\n",
    "grad_np = dense_out_np - y_true\n",
    "dense_grads_np = dense_layer_np.backward(grad_np)"
   ]
  },
  {
   "cell_type": "code",
   "execution_count": 90,
   "metadata": {},
   "outputs": [
    {
     "data": {
      "image/png": "[encoded data removed]",
      "text/plain": [
       "<Figure size 200x800 with 2 Axes>"
      ]
     },
     "metadata": {},
     "output_type": "display_data"
    }
   ],
   "source": [
    "fig, ax = plt.subplots(1, 2, figsize=(2, 8))\n",
    "ax[0].imshow(dense_layer_np.weights_grads)\n",
    "ax[0].axis('off')\n",
    "ax[1].imshow(dense_layer_np.bias_grads.reshape(10, 1))\n",
    "ax[1].axis('off')\n",
    "plt.show()"
   ]
  },
  {
   "cell_type": "code",
   "execution_count": 91,
   "metadata": {},
   "outputs": [
    {
     "name": "stdout",
     "output_type": "stream",
     "text": [
      "(1, 676)\n"
     ]
    },
    {
     "data": {
      "image/png": "[encoded data removed]",
      "text/plain": [
       "<Figure size 640x480 with 1 Axes>"
      ]
     },
     "metadata": {},
     "output_type": "display_data"
    }
   ],
   "source": [
    "print(dense_grads_np.shape)\n",
    "\n",
    "fig, ax = plt.subplots(1, 1)\n",
    "ax.imshow(dense_grads_np)\n",
    "ax.axis('off')\n",
    "\n",
    "plt.show()\n"
   ]
  },
  {
   "cell_type": "code",
   "execution_count": 92,
   "metadata": {},
   "outputs": [
    {
     "name": "stdout",
     "output_type": "stream",
     "text": [
      "(1, 4, 13, 13)\n"
     ]
    }
   ],
   "source": [
    "# FLATTEN\n",
    "flatten_grads_np = flatten_layer_np.backward(dense_grads_np)\n",
    "print(flatten_grads_np.shape)"
   ]
  },
  {
   "cell_type": "code",
   "execution_count": 95,
   "metadata": {},
   "outputs": [
    {
     "data": {
      "image/png": "[encoded data removed]",
      "text/plain": [
       "<Figure size 200x800 with 4 Axes>"
      ]
     },
     "metadata": {},
     "output_type": "display_data"
    }
   ],
   "source": [
    "fig, ax = plt.subplots(batch, filters, figsize=(2, 8))\n",
    "for b in range(batch):\n",
    "    for f in range(filters):\n",
    "        if batch > 1:\n",
    "            ax[b, f].imshow(flatten_grads_np[b][f, :, :])\n",
    "            ax[b, f].axis('off')\n",
    "        else:\n",
    "            ax[f].imshow(flatten_grads_np[b][f, :, :])\n",
    "            ax[f].axis('off')\n",
    "\n",
    "plt.show()"
   ]
  },
  {
   "cell_type": "code",
   "execution_count": 96,
   "metadata": {},
   "outputs": [
    {
     "name": "stdout",
     "output_type": "stream",
     "text": [
      "(1, 4, 26, 26)\n"
     ]
    }
   ],
   "source": [
    "# MAX POOLING\n",
    "pool_grads_np = pool_layer_np.backward(flatten_grads_np)\n",
    "print(pool_grads_np.shape)"
   ]
  },
  {
   "cell_type": "code",
   "execution_count": 99,
   "metadata": {},
   "outputs": [
    {
     "data": {
      "image/png": "[encoded data removed]",
      "text/plain": [
       "<Figure size 200x800 with 4 Axes>"
      ]
     },
     "metadata": {},
     "output_type": "display_data"
    }
   ],
   "source": [
    "fig, ax = plt.subplots(batch, filters, figsize=(2, 8))\n",
    "\n",
    "for b in range(batch):\n",
    "        for f in range(filters):\n",
    "                if batch > 1:\n",
    "                        ax[b, f].imshow(pool_grads_np[b][f, :, :])\n",
    "                        ax[b, f].axis('off')\n",
    "                else:\n",
    "                        ax[f].imshow(pool_grads_np[b][f, :, :])\n",
    "                        ax[f].axis('off')\n",
    "plt.show()"
   ]
  },
  {
   "cell_type": "code",
   "execution_count": 100,
   "metadata": {},
   "outputs": [
    {
     "name": "stdout",
     "output_type": "stream",
     "text": [
      "(1, 1, 28, 28)\n"
     ]
    }
   ],
   "source": [
    "# CONV\n",
    "data_grads_np = conv_layer.backward(pool_grads_np)\n",
    "print(data_grads_np.shape)"
   ]
  },
  {
   "cell_type": "code",
   "execution_count": 102,
   "metadata": {},
   "outputs": [
    {
     "data": {
      "image/png": "[encoded data removed]",
      "text/plain": [
       "<Figure size 200x1600 with 1 Axes>"
      ]
     },
     "metadata": {},
     "output_type": "display_data"
    }
   ],
   "source": [
    "fig, ax = plt.subplots(batch, 1, figsize=(2, 16))\n",
    "\n",
    "for b in range(batch):\n",
    "    if batch > 1:\n",
    "        ax[b].imshow(data_grads_np[b][0])\n",
    "        ax[b].axis('off')\n",
    "    else:\n",
    "        ax.imshow(data_grads_np[b][0])\n",
    "        ax.axis('off')\n",
    "plt.show()\n"
   ]
  },
  {
   "cell_type": "code",
   "execution_count": 103,
   "metadata": {},
   "outputs": [
    {
     "name": "stdout",
     "output_type": "stream",
     "text": [
      "(3, 3, 1, 4)\n",
      "--------------------------------------------------\n",
      "[-0.26654621  1.13601031  0.22421431  0.60567335]\n"
     ]
    }
   ],
   "source": [
    "# CONV\n",
    "# print(data_x_tf.numpy().shape)\n",
    "print(conv_layer.weights_grads.shape)\n",
    "print('-'*50)\n",
    "print(conv_layer.bias_grads)\n"
   ]
  },
  {
   "cell_type": "code",
   "execution_count": 104,
   "metadata": {},
   "outputs": [
    {
     "name": "stdout",
     "output_type": "stream",
     "text": [
      "(3, 3, 1, 4)\n"
     ]
    },
    {
     "data": {
      "image/png": "[encoded data removed]",
      "text/plain": [
       "<Figure size 640x480 with 4 Axes>"
      ]
     },
     "metadata": {},
     "output_type": "display_data"
    },
    {
     "data": {
      "text/plain": [
       "(np.float64(-0.5), np.float64(0.5), np.float64(3.5), np.float64(-0.5))"
      ]
     },
     "execution_count": 104,
     "metadata": {},
     "output_type": "execute_result"
    },
    {
     "data": {
      "image/png": "[encoded data removed]",
      "text/plain": [
       "<Figure size 640x480 with 1 Axes>"
      ]
     },
     "metadata": {},
     "output_type": "display_data"
    }
   ],
   "source": [
    "fig, ax = plt.subplots(filters, 1)\n",
    "w_np = conv_layer.weights_grads\n",
    "b_np = conv_layer.bias_grads\n",
    "print(w_np.shape)\n",
    "for f in range(filters):\n",
    "    ax[f].imshow(w_np[:, :, :, f])\n",
    "    ax[f].axis('off')\n",
    "plt.show()\n",
    "plt.imshow(b_np.reshape(filters, 1))\n",
    "plt.axis('off')\n"
   ]
  }
 ],
 "metadata": {
  "kernelspec": {
   "display_name": "venv",
   "language": "python",
   "name": "python3"
  },
  "language_info": {
   "codemirror_mode": {
    "name": "ipython",
    "version": 3
   },
   "file_extension": ".py",
   "mimetype": "text/x-python",
   "name": "python",
   "nbconvert_exporter": "python",
   "pygments_lexer": "ipython3",
   "version": "3.12.0"
  }
 },
 "nbformat": 4,
 "nbformat_minor": 2
}
