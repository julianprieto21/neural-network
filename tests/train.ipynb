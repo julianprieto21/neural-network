{
 "cells": [
  {
   "cell_type": "code",
   "execution_count": 11,
   "metadata": {},
   "outputs": [],
   "source": [
    "import os\n",
    "os.chdir('#')\n",
    "import models.layers as layers\n",
    "import numpy as np\n",
    "import matplotlib.pyplot as plt\n",
    "from models.models import ConvolutionalNeuralNetwork\n",
    "import models.activations as activations\n",
    "import training.optimizers as optimizers\n",
    "import training.loss as losses\n",
    "import utils.metrics as metrics\n",
    "# np.random.seed(21)"
   ]
  },
  {
   "cell_type": "code",
   "execution_count": 12,
   "metadata": {},
   "outputs": [
    {
     "name": "stdout",
     "output_type": "stream",
     "text": [
      "\n",
      "    Train data: (48000, 1, 28, 28)\n",
      "    Valid data: (12000, 1, 28, 28)\n",
      "    Test data: (10000, 1, 28, 28)\n",
      "\n",
      "    Train labels: (48000, 10)\n",
      "    Valid labels: (12000, 10)\n",
      "    Test labels: (10000, 10)\n",
      "    \n"
     ]
    }
   ],
   "source": [
    "import utils.dataset as dt\n",
    "\n",
    "# Cargar dataset\n",
    "[train, test] = dt.load_dataset('data/mnist')\n",
    "x_train, y_train, x_val, y_val, x_test, y_test = dt.preprocess_dataset(train_data=train, test_data=test)"
   ]
  },
  {
   "cell_type": "code",
   "execution_count": 17,
   "metadata": {},
   "outputs": [
    {
     "name": "stdout",
     "output_type": "stream",
     "text": [
      "Modelo de red neuronal con 6 capas:\n",
      "- input: Entrada - (32, 1, 28, 28)\n",
      "- conv: Conv2D - (32, 4, 26, 26) - 40 params\n",
      "    Pesos:  (3, 3, 1, 4)\n",
      "    Bias:  (4,)\n",
      "- max_pooling: MaxPool2D - (32, 4, 13, 13)\n",
      "- flatten: Flatten - (32, 676)\n",
      "- dense: Dense - (32, 32) - 21664 params\n",
      "    Pesos:  (676, 32)\n",
      "    Bias:  (32,)\n",
      "- dense: Dense - (32, 10) - 330 params\n",
      "    Pesos:  (32, 10)\n",
      "    Bias:  (10,)\n",
      "Optimizador: SGD - Learning rate: 0.02\n",
      "Función de pérdida: categorical_cross_entropy\n",
      "Función de cálculo de métricas: accuracy\n",
      "Cantidad de parámetros: 22034\n"
     ]
    }
   ],
   "source": [
    "model = ConvolutionalNeuralNetwork(\n",
    "    layers=[\n",
    "        layers.Conv2D(input_shape=(32, 1, 28, 28), filters=4, filter_size=3, activation=activations.ReLU()),#, weights=weights_conv),\n",
    "        layers.MaxPool2D(pool_size=2),\n",
    "        layers.Flatten(),\n",
    "        layers.Dense(neurons=32, activation=activations.ReLU()),\n",
    "        layers.Dense(neurons=10, activation=activations.Softmax())#, weights=weights_dense)\n",
    "    ], \n",
    "    optimizer=optimizers.SGD(learning_rate=0.02), \n",
    "    loss=losses.categorical_cross_entropy, \n",
    "    metrics=metrics.accuracy\n",
    ")\n",
    "model.summary()\n",
    "batch = 3200\n",
    "x = x_train[:batch, :, :, :]\n",
    "y = y_train[:batch]\n",
    "epochs = 10\n",
    "batch_size = 32"
   ]
  },
  {
   "cell_type": "code",
   "execution_count": 18,
   "metadata": {},
   "outputs": [
    {
     "data": {
      "text/plain": [
       "(np.float64(0.168), np.float64(0.007))"
      ]
     },
     "execution_count": 18,
     "metadata": {},
     "output_type": "execute_result"
    }
   ],
   "source": [
    "model.evaluate(x[:32], y[:32])\n"
   ]
  },
  {
   "cell_type": "code",
   "execution_count": 19,
   "metadata": {},
   "outputs": [
    {
     "name": "stdout",
     "output_type": "stream",
     "text": [
      "Entreando el modelo...\n",
      "Epoch 1/10 - Loss: 0.0720 - Metric: 0.004\n",
      "Epoch 2/10 - Loss: 0.0720 - Metric: 0.004\n",
      "Epoch 3/10 - Loss: 0.0710 - Metric: 0.004\n",
      "Epoch 4/10 - Loss: 0.0710 - Metric: 0.004\n",
      "Epoch 5/10 - Loss: 0.0710 - Metric: 0.004\n",
      "Epoch 6/10 - Loss: 0.0710 - Metric: 0.004\n",
      "Epoch 7/10 - Loss: 0.0710 - Metric: 0.004\n",
      "Epoch 8/10 - Loss: 0.0710 - Metric: 0.004\n",
      "Epoch 9/10 - Loss: 0.0710 - Metric: 0.004\n",
      "Epoch 10/10 - Loss: 0.0710 - Metric: 0.004\n"
     ]
    }
   ],
   "source": [
    "loss, acc = model.train(x, y, epochs=epochs, batch_size=batch_size)"
   ]
  },
  {
   "cell_type": "code",
   "execution_count": 20,
   "metadata": {},
   "outputs": [
    {
     "data": {
      "image/png": "[encoded data removed]",
      "text/plain": [
       "<Figure size 640x480 with 2 Axes>"
      ]
     },
     "metadata": {},
     "output_type": "display_data"
    }
   ],
   "source": [
    "fig, ax = plt.subplots(2, 1)\n",
    "ax[0].plot(loss)\n",
    "ax[0].set_title('Loss')\n",
    "ax[1].plot(acc)\n",
    "ax[1].set_title('Accuracy')\n",
    "plt.show()"
   ]
  }
 ],
 "metadata": {
  "kernelspec": {
   "display_name": "venv",
   "language": "python",
   "name": "python3"
  },
  "language_info": {
   "codemirror_mode": {
    "name": "ipython",
    "version": 3
   },
   "file_extension": ".py",
   "mimetype": "text/x-python",
   "name": "python",
   "nbconvert_exporter": "python",
   "pygments_lexer": "ipython3",
   "version": "3.12.0"
  }
 },
 "nbformat": 4,
 "nbformat_minor": 2
}
